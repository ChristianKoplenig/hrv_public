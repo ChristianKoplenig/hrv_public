{
 "cells": [
  {
   "attachments": {},
   "cell_type": "markdown",
   "metadata": {},
   "source": [
    "# <center>Analyse daily meassurements from HRV Logger App<center>\n",
    "### <center>Databasis: feature computation from app<center>"
   ]
  },
  {
   "cell_type": "code",
   "execution_count": 1,
   "metadata": {},
   "outputs": [],
   "source": [
    "import pandas as pd\n",
    "from csv_prepare import csv_cp\n",
    "from create_df import read_df\n",
    "import seaborn as sns\n",
    "import matplotlib.pyplot as plt\n",
    "import seaborn.objects as so"
   ]
  },
  {
   "cell_type": "markdown",
   "metadata": {},
   "source": [
    "# <center> User Input <center>"
   ]
  },
  {
   "cell_type": "code",
   "execution_count": 2,
   "metadata": {},
   "outputs": [],
   "source": [
    "# select which measurements to show\n",
    "select_measurement = ['ot_m', 'ot_a']   #so far just 2 sets are selectable\n",
    "plt_select_length = 4                   #select at which character the measurements are divided for the plot\n",
    "\n",
    "## Obsidian related plots ##\n",
    "windowframe = '7D' # select how many days to show\n",
    "select_rolling = 15 # select number of measurements for rolling median calculation"
   ]
  },
  {
   "cell_type": "markdown",
   "metadata": {},
   "source": [
    "## <center> Setup Dataframes <center>"
   ]
  },
  {
   "cell_type": "markdown",
   "metadata": {},
   "source": [
    "### Import data from filesystem"
   ]
  },
  {
   "cell_type": "code",
   "execution_count": 3,
   "metadata": {},
   "outputs": [
    {
     "name": "stdout",
     "output_type": "stream",
     "text": [
      "added file:  ot_m83_Features.csv\n"
     ]
    }
   ],
   "source": [
    "# copy files to workdir, create column measurement, format timestamp\n",
    "csv_cp()\n",
    "\n",
    "#create initial dataframe\n",
    "df = read_df()\n",
    "\n",
    "# add date column to df\n",
    "df['date'] = df['time'].dt.date\n",
    "df['date'] = pd.to_datetime(df['date'])"
   ]
  },
  {
   "cell_type": "markdown",
   "metadata": {},
   "source": [
    "### Setup individual dataframes"
   ]
  },
  {
   "cell_type": "code",
   "execution_count": null,
   "metadata": {},
   "outputs": [],
   "source": [
    "# dataframes per measurement\n",
    "select_measurement_idx0 = df[df['measurement'].str.contains(select_measurement[0])]\n",
    "select_measurement_idx0 = select_measurement_idx0.sort_values('measurement')\n",
    "select_measurement_idx1 = df[df['measurement'].str.contains(select_measurement[1])]\n",
    "select_measurement_idx1 = select_measurement_idx1.sort_values('measurement')\n",
    "\n",
    "# grouped dataframes, used in calculate rolling values\n",
    "gpDate_select_measurement_idx0 = select_measurement_idx0.groupby('date').median()\n",
    "gpDate_select_measurement_idx0['rol_rmssd'] = gpDate_select_measurement_idx0['rmssd'].rolling(select_rolling).median()\n",
    "gpDate_select_measurement_idx0['rol_hr'] = gpDate_select_measurement_idx0['hr'].rolling(select_rolling).median()\n",
    "\n",
    "gpDate_select_measurement_idx1 = select_measurement_idx1.groupby('date').median()\n",
    "gpDate_select_measurement_idx1['rol_rmssd'] = gpDate_select_measurement_idx1['rmssd'].rolling(select_rolling).median()\n",
    "gpDate_select_measurement_idx1['rol_hr'] = gpDate_select_measurement_idx1['hr'].rolling(select_rolling).median()\n",
    "\n",
    "# all measurements, long format, grouped by date, select column for plot\n",
    "gp_MesDt = df.groupby(['measurement', 'date']).median()[['hr', 'rmssd']]\n",
    "gp_MesDt.reset_index(drop= False, inplace= True)\n",
    "gp_MesDt = gp_MesDt[gp_MesDt['measurement'].str.contains('|'.join(select_measurement))]\n",
    "gp_MesDt['plt_select'] = gp_MesDt['measurement'].str[:plt_select_length]\n",
    "\n",
    "##### used for plot\n",
    "\n",
    "# create filter last 7 days\n",
    "plt_df_1 = pd.DataFrame(gp_MesDt[gp_MesDt['measurement'].str.contains(select_measurement[0])])\n",
    "plt_df_1.set_index('date', drop= True, inplace= True)\n",
    "plt_df_1 = plt_df_1.last(windowframe)\n",
    "plt_df_1.reset_index(drop= False, inplace= True)\n",
    "plt_df_1 = pd.merge(plt_df_1,\n",
    "                    gpDate_select_measurement_idx0[['rol_hr', 'rol_rmssd']],\n",
    "                    on= 'date',\n",
    "                    how= 'left')\n",
    "\n",
    "plt_df_2 = pd.DataFrame(gp_MesDt[gp_MesDt['measurement'].str.contains(select_measurement[1])])\n",
    "plt_df_2.set_index('date', drop= True, inplace= True)\n",
    "plt_df_2 = plt_df_2.last(windowframe)\n",
    "plt_df_2.reset_index(drop= False, inplace= True)\n",
    "plt_df_2 = pd.merge(plt_df_2,\n",
    "                    gpDate_select_measurement_idx1[['rol_hr', 'rol_rmssd']],\n",
    "                    on= 'date',\n",
    "                    how= 'left')\n",
    "\n",
    "plt_df = pd.concat([plt_df_1, plt_df_2])\n",
    "plt_df.reset_index(drop=True, inplace=True)"
   ]
  },
  {
   "cell_type": "markdown",
   "metadata": {},
   "source": [
    "## check if all measurements are imported"
   ]
  },
  {
   "cell_type": "code",
   "execution_count": null,
   "metadata": {},
   "outputs": [],
   "source": [
    "print('Morgenroutine: ', \n",
    "      select_measurement_idx0.sort_values('measurement')['measurement'].unique()[-1],\n",
    "      '|', \n",
    "      len(select_measurement_idx0.sort_values('measurement')['measurement'].unique()),\n",
    "      '|',\n",
    "      select_measurement_idx0['time'].iloc[-1].day,'-',select_measurement_idx0['time'].iloc[-1].month,'-',select_measurement_idx0['time'].iloc[-1].year)\n",
    "\n",
    "print('Abendroutine:  ', \n",
    "      select_measurement_idx1.sort_values('measurement')['measurement'].unique()[-1],\n",
    "      '|', \n",
    "      len(select_measurement_idx1.sort_values('measurement')['measurement'].unique()),\n",
    "      '|',\n",
    "      select_measurement_idx1['time'].iloc[-1].day,'-',select_measurement_idx1['time'].iloc[-1].month,'-',select_measurement_idx1['time'].iloc[-1].year)"
   ]
  },
  {
   "cell_type": "markdown",
   "metadata": {},
   "source": [
    "# <center> Print <center>"
   ]
  },
  {
   "cell_type": "markdown",
   "metadata": {},
   "source": [
    "## set styling for all plots"
   ]
  },
  {
   "cell_type": "code",
   "execution_count": null,
   "metadata": {},
   "outputs": [],
   "source": [
    "sns.set_theme(style= 'whitegrid',\n",
    "              palette= 'tab10',\n",
    "              context= 'notebook'\n",
    "              )"
   ]
  },
  {
   "attachments": {},
   "cell_type": "markdown",
   "metadata": {},
   "source": [
    "## Overview plots"
   ]
  },
  {
   "cell_type": "code",
   "execution_count": null,
   "metadata": {},
   "outputs": [],
   "source": [
    "select_measurement_idx1"
   ]
  },
  {
   "cell_type": "code",
   "execution_count": null,
   "metadata": {},
   "outputs": [],
   "source": [
    "fig, axes = plt.subplots(nrows=1, ncols=1, figsize=(30,15) )\n",
    "\n",
    "sns.lineplot(data=select_measurement_idx0,\n",
    "             x='date',\n",
    "             y='hr')\n",
    "sns.lineplot(data=select_measurement_idx1,\n",
    "             x='date',\n",
    "             y='hr')\n",
    "axes.legend(['hr_abend', 'variance', 'hr_morgen', 'variance'], fontsize=16)\n",
    "axes.set_title(\"Heartrate\", fontsize=16)"
   ]
  },
  {
   "attachments": {},
   "cell_type": "markdown",
   "metadata": {},
   "source": [
    "## Output for obsidian myHealth"
   ]
  },
  {
   "cell_type": "code",
   "execution_count": null,
   "metadata": {},
   "outputs": [],
   "source": [
    "import matplotlib.dates as mdates\n",
    "\n",
    "plt.close('all')\n",
    "fig = plt.figure(figsize=(15,11))\n",
    "\n",
    "# define grid and plot windows in main grid\n",
    "sf1 = plt.subplot2grid((3,2), (0,0))    #links oben\n",
    "sf2 = plt.subplot2grid((3,2), (0,1))    #rechts oben\n",
    "sf3 = plt.subplot2grid((3,2), (1,0), colspan=2)\n",
    "sf4 = plt.subplot2grid((3,2), (2,0), colspan=2)\n",
    "\n",
    "# create plots with seaborn object interface\n",
    "(\n",
    "    so.Plot(plt_df,\n",
    "            y='rmssd',\n",
    "            x='date',\n",
    "            color= 'plt_select')\n",
    "    .add(so.Bars(alpha= 0.4), \n",
    "         so.Agg('median'), \n",
    "         so.Dodge(gap=.1))  # type: ignore\n",
    "    .add(so.Line(linestyle= '--'), y= 'rol_rmssd')\n",
    "    .label(title= 'rmssd',\n",
    "           x= 'dates')\n",
    "    .limit(y= (plt_df['rmssd'].min()-5, plt_df['rmssd'].max()+5))          \n",
    "    .on(sf1)\n",
    "    .plot()\n",
    ")\n",
    "\n",
    "(\n",
    "    so.Plot(plt_df,\n",
    "            y='hr',\n",
    "            x='date',\n",
    "            color= 'plt_select')\n",
    "    .add(so.Bars(alpha= 0.4),\n",
    "         so.Agg('median'), \n",
    "         so.Dodge(gap=.1))  # type: ignore\n",
    "    .add(so.Line(linestyle= '--'), y= 'rol_hr')\n",
    "    .label(title= 'hr',\n",
    "           x= 'dates')\n",
    "    .limit(y= (plt_df['hr'].min()-2, plt_df['hr'].max()+1))\n",
    "    .on(sf2)\n",
    "    .plot()\n",
    ")\n",
    "\n",
    "(\n",
    "    so.Plot(select_measurement_idx0[select_measurement_idx0['date'] == max(select_measurement_idx0['date'])],\n",
    "            y='rmssd',\n",
    "            x='time',)\n",
    "    .add(so.Bars(alpha= 0.4), \n",
    "         so.Agg('median'))\n",
    "    .add(so.Line(linestyle= '--', linewidth= 1,), y= 'hr')\n",
    "    .label(title= 'Morgenuebung',\n",
    "           x= max(select_measurement_idx0['date']).date())\n",
    "    .on(sf3)\n",
    "    .plot()\n",
    ")\n",
    "\n",
    "(\n",
    "    so.Plot(select_measurement_idx1[select_measurement_idx1['date'] == max(select_measurement_idx1['date'])],\n",
    "            y='rmssd',\n",
    "            x='time',)\n",
    "    .add(so.Bars(alpha= 0.4, color= '#ff7f0e'), \n",
    "         so.Agg('median'))\n",
    "    .add(so.Line(linestyle= '--', linewidth= 1, color= '#ff7f0e'), y= 'hr')\n",
    "    .label(title= 'Abenduebung',\n",
    "           x= max(select_measurement_idx1['date']).date())\n",
    "    .on(sf4)\n",
    "    .plot()\n",
    ")\n",
    "plt.tight_layout()"
   ]
  }
 ],
 "metadata": {
  "kernelspec": {
   "display_name": "Python 3 (ipykernel)",
   "language": "python",
   "name": "python3"
  },
  "language_info": {
   "codemirror_mode": {
    "name": "ipython",
    "version": 3
   },
   "file_extension": ".py",
   "mimetype": "text/x-python",
   "name": "python",
   "nbconvert_exporter": "python",
   "pygments_lexer": "ipython3",
   "version": "3.9.15"
  },
  "vscode": {
   "interpreter": {
    "hash": "474f5c0bca023857c04b7a6a84294a855648085020f2aa267ec32ca827d7875b"
   }
  }
 },
 "nbformat": 4,
 "nbformat_minor": 2
}
